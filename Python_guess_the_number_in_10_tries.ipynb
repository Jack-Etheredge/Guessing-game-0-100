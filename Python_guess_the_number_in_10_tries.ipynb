{
 "cells": [
  {
   "cell_type": "code",
   "execution_count": null,
   "metadata": {
    "collapsed": false
   },
   "outputs": [
    {
     "name": "stdout",
     "output_type": "stream",
     "text": [
      "Guess the number between 0 and 100. You get 10 tries.\n"
     ]
    }
   ],
   "source": [
    "import random\n",
    "print(\"Guess the number between 0 and 100. You get 10 tries.\")\n",
    "secret_number = random.randint(0,100)  \n",
    "guess = -1     \n",
    "guessnumber = 0\n",
    "\n",
    "while secret_number != guess and guessnumber < 10:   \n",
    "    guess = int(input())   \n",
    "    if guess < secret_number:   \n",
    "      print(\"your guess is low\")    \n",
    "      guessnumber += 1\n",
    "    elif guess > secret_number:    \n",
    "      print(\"your guess is high\")\n",
    "      guessnumber += 1\n",
    "    else:   \n",
    "      print(\"you guessed right!\")\n",
    "\n",
    "if (guess == secret_number):\n",
    "    print(\"you won!\")\n",
    "else:\n",
    "    print(\"sorry. you lose.\")"
   ]
  },
  {
   "cell_type": "code",
   "execution_count": null,
   "metadata": {
    "collapsed": true
   },
   "outputs": [],
   "source": []
  }
 ],
 "metadata": {
  "kernelspec": {
   "display_name": "Python 3",
   "language": "python",
   "name": "python3"
  },
  "language_info": {
   "codemirror_mode": {
    "name": "ipython",
    "version": 3
   },
   "file_extension": ".py",
   "mimetype": "text/x-python",
   "name": "python",
   "nbconvert_exporter": "python",
   "pygments_lexer": "ipython3",
   "version": "3.6.0"
  }
 },
 "nbformat": 4,
 "nbformat_minor": 2
}
